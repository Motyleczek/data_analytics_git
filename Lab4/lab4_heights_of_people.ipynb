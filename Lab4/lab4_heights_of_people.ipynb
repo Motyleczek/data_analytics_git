{
 "cells": [
  {
   "attachments": {},
   "cell_type": "markdown",
   "metadata": {},
   "source": [
    "# Lab 4 - Linear models - modelling height of !Kung people\n",
    "\n",
    "During the excercise, we will be covering design of model for heights of certain population of people.\n",
    "Specific tasks are in the laboratory notebook, following there are specifications for the required models. \n",
    "\n",
    "<hr>\n"
   ]
  },
  {
   "cell_type": "code",
   "execution_count": 1,
   "metadata": {},
   "outputs": [
    {
     "name": "stderr",
     "output_type": "stream",
     "text": [
      "/usr/local/lib/python3.9/site-packages/tqdm/auto.py:22: TqdmWarning: IProgress not found. Please update jupyter and ipywidgets. See https://ipywidgets.readthedocs.io/en/stable/user_install.html\n",
      "  from .autonotebook import tqdm as notebook_tqdm\n"
     ]
    }
   ],
   "source": [
    "from cmdstanpy import CmdStanModel\n",
    "\n",
    "\n",
    "import arviz as az\n",
    "import numpy as np\n",
    "import scipy.stats as stats\n",
    "\n",
    "import matplotlib.pyplot as plt\n",
    "import pandas as pd"
   ]
  },
  {
   "attachments": {},
   "cell_type": "markdown",
   "metadata": {},
   "source": [
    "### Ex. 1 Prepare the models:\n",
    "\n",
    "```height_1_ppc.stan```\n",
    "\n",
    "\n",
    "Generated quantities model, that would sample $\\mu$ from normal prior distribution. It is supposed to represent our general knowledge about heights of people so assign reasonable mean height and standard deviation of those values. Our measurement error is unknown, but reasonably it would be on average 15 cm, propose a distribution and parameters for prior of standard deviation $\\sigma$. Finally sample measurement of ```height``` from normal distribution with previously sampled $\\mu$ and $\\sigma$. Use this model to select parameters for priors to provide reasonable spreads of heights. \n",
    "\n",
    "<hr>\n",
    "\n",
    "```height_1_fit.stan```\n",
    "\n",
    "Create a model for fitting model without predictors. \n",
    "For this purpose:\n",
    "\n",
    "- specify ```data``` block with ```N``` samples, and input real array of size ```N``` called ```heights```\n",
    "- specify ```parameters``` block with $\\mu$ and $\\sigma$ (set up appropriate types and constraints)\n",
    "- in ```model``` block specify priors with appropriately selected parameters and normal likelihood using those parameters.\n",
    "- in ```generated quantites``` block sample a single height consistent with the model.\n",
    "\n",
    "<hr>\n",
    "\n",
    "```height_2a_ppc.stan```\n",
    "\n",
    "Modify the previous prior predictive check model by:\n",
    "- adding ```data``` block with ```N``` samples, and input real array of size ```N``` called ```weight```\n",
    "- new variable $\\alpha$ for intercept with same prior as $\\mu$ in previous model\n",
    "- add a standard normal prior for predictor coefficient $\\beta$\n",
    "- create a size ```N``` real array called ```height``` and with a ```for``` loop fill it with normal samples with standard deviation $\\sigma$ and mean $\\alpha+\\beta\\cdot\\mathrm{weight}[i]$\n",
    "\n",
    "<hr>\n",
    "\n",
    "```height_2b_ppc.stan```\n",
    "\n",
    "Modify the previous prior predictive check model to use lognormal distribution for $\\beta$.  \n",
    "\n",
    "<hr>\n",
    "\n",
    "```height_2_fit.stan```\n",
    "\n",
    "Modify previous model for fitting, by:\n",
    "- adding to ```data``` block an input real array of size ```N``` called ```weight```\n",
    "- adding to ```parameters``` a new one - $\\beta$\n",
    "- create a new block ```transformed parameters``` where with a ```for``` loop a new real array parameter of size [N] is created with $\\mu=\\alpha+\\beta\\cdot\\mathrm{weight}[i]$\n",
    "- in ```model``` add the prior for $\\beta$ and evaluate likelihood in a loop over all values of $\\mu$ array.\n",
    "- in ```generated quantites``` block sample ```N``` dimensional array height over all values of $\\mu$ array.\n",
    "We focus on models in the form\n",
    "    $$y \\sim \\mathrm{Normal}(\\alpha+X\\beta,\\sigma)$$\n",
    "\n",
    "We will try to fit $\\mathrm{Normal}(\\mu, \\sigma)$ distribution to height data. Special case of linear model with $\\beta=0$."
   ]
  },
  {
   "cell_type": "code",
   "execution_count": 2,
   "metadata": {},
   "outputs": [
    {
     "data": {
      "text/html": [
       "<div>\n",
       "<style scoped>\n",
       "    .dataframe tbody tr th:only-of-type {\n",
       "        vertical-align: middle;\n",
       "    }\n",
       "\n",
       "    .dataframe tbody tr th {\n",
       "        vertical-align: top;\n",
       "    }\n",
       "\n",
       "    .dataframe thead th {\n",
       "        text-align: right;\n",
       "    }\n",
       "</style>\n",
       "<table border=\"1\" class=\"dataframe\">\n",
       "  <thead>\n",
       "    <tr style=\"text-align: right;\">\n",
       "      <th></th>\n",
       "      <th>height</th>\n",
       "      <th>weight</th>\n",
       "      <th>age</th>\n",
       "      <th>male</th>\n",
       "    </tr>\n",
       "  </thead>\n",
       "  <tbody>\n",
       "    <tr>\n",
       "      <th>0</th>\n",
       "      <td>151.765</td>\n",
       "      <td>47.825606</td>\n",
       "      <td>63.0</td>\n",
       "      <td>1</td>\n",
       "    </tr>\n",
       "    <tr>\n",
       "      <th>1</th>\n",
       "      <td>139.700</td>\n",
       "      <td>36.485807</td>\n",
       "      <td>63.0</td>\n",
       "      <td>0</td>\n",
       "    </tr>\n",
       "    <tr>\n",
       "      <th>2</th>\n",
       "      <td>136.525</td>\n",
       "      <td>31.864838</td>\n",
       "      <td>65.0</td>\n",
       "      <td>0</td>\n",
       "    </tr>\n",
       "    <tr>\n",
       "      <th>3</th>\n",
       "      <td>156.845</td>\n",
       "      <td>53.041914</td>\n",
       "      <td>41.0</td>\n",
       "      <td>1</td>\n",
       "    </tr>\n",
       "    <tr>\n",
       "      <th>4</th>\n",
       "      <td>145.415</td>\n",
       "      <td>41.276872</td>\n",
       "      <td>51.0</td>\n",
       "      <td>0</td>\n",
       "    </tr>\n",
       "  </tbody>\n",
       "</table>\n",
       "</div>"
      ],
      "text/plain": [
       "    height     weight   age  male\n",
       "0  151.765  47.825606  63.0     1\n",
       "1  139.700  36.485807  63.0     0\n",
       "2  136.525  31.864838  65.0     0\n",
       "3  156.845  53.041914  41.0     1\n",
       "4  145.415  41.276872  51.0     0"
      ]
     },
     "execution_count": 2,
     "metadata": {},
     "output_type": "execute_result"
    }
   ],
   "source": [
    "_BASE_URL = \"https://raw.githubusercontent.com/rmcelreath/rethinking/Experimental/data\"\n",
    "HOWELL_DATASET_PATH = f\"{_BASE_URL}/Howell1.csv\"\n",
    "d = pd.read_csv(HOWELL_DATASET_PATH, sep=';', header=0)\n",
    "d=d[d.age>=18] #just adults \n",
    "d.head()"
   ]
  },
  {
   "attachments": {},
   "cell_type": "markdown",
   "metadata": {},
   "source": [
    "#### Task 1. Prior predictive check"
   ]
  },
  {
   "cell_type": "code",
   "execution_count": 4,
   "metadata": {},
   "outputs": [
    {
     "name": "stderr",
     "output_type": "stream",
     "text": [
      "INFO:cmdstanpy:found newer exe file, not recompiling\n",
      "INFO:cmdstanpy:CmdStan start processing\n",
      "chain 1 |\u001b[34m██████████\u001b[0m| 00:00 Sampling completed                      "
     ]
    },
    {
     "name": "stdout",
     "output_type": "stream",
     "text": [
      "                                                                                "
     ]
    },
    {
     "name": "stderr",
     "output_type": "stream",
     "text": [
      "\n",
      "INFO:cmdstanpy:CmdStan done processing.\n"
     ]
    },
    {
     "name": "stdout",
     "output_type": "stream",
     "text": [
      "\n"
     ]
    }
   ],
   "source": [
    "model_ppc=CmdStanModel(stan_file='height_1_ppc.stan')\n",
    "\n",
    "R = 1000\n",
    "data = {\"mu\":d.height.mean(), \"sigma\":d.height.std()}\n",
    "sim=model_ppc.sample(data=data,\n",
    "                     iter_sampling=R,\n",
    "                     iter_warmup=0,\n",
    "                     chains=1,\n",
    "                     seed=29042020,refresh=R)"
   ]
  },
  {
   "cell_type": "code",
   "execution_count": 6,
   "metadata": {},
   "outputs": [
    {
     "data": {
      "text/html": [
       "<div>\n",
       "<style scoped>\n",
       "    .dataframe tbody tr th:only-of-type {\n",
       "        vertical-align: middle;\n",
       "    }\n",
       "\n",
       "    .dataframe tbody tr th {\n",
       "        vertical-align: top;\n",
       "    }\n",
       "\n",
       "    .dataframe thead th {\n",
       "        text-align: right;\n",
       "    }\n",
       "</style>\n",
       "<table border=\"1\" class=\"dataframe\">\n",
       "  <thead>\n",
       "    <tr style=\"text-align: right;\">\n",
       "      <th></th>\n",
       "      <th>lp__</th>\n",
       "      <th>accept_stat__</th>\n",
       "      <th>mu_p</th>\n",
       "      <th>sigma_p</th>\n",
       "      <th>height</th>\n",
       "    </tr>\n",
       "  </thead>\n",
       "  <tbody>\n",
       "    <tr>\n",
       "      <th>0</th>\n",
       "      <td>0.0</td>\n",
       "      <td>0.0</td>\n",
       "      <td>0.815985</td>\n",
       "      <td>2.45843</td>\n",
       "      <td>0.000000</td>\n",
       "    </tr>\n",
       "    <tr>\n",
       "      <th>1</th>\n",
       "      <td>0.0</td>\n",
       "      <td>0.0</td>\n",
       "      <td>0.815985</td>\n",
       "      <td>2.45843</td>\n",
       "      <td>0.659479</td>\n",
       "    </tr>\n",
       "    <tr>\n",
       "      <th>2</th>\n",
       "      <td>0.0</td>\n",
       "      <td>0.0</td>\n",
       "      <td>0.815985</td>\n",
       "      <td>2.45843</td>\n",
       "      <td>0.000000</td>\n",
       "    </tr>\n",
       "    <tr>\n",
       "      <th>3</th>\n",
       "      <td>0.0</td>\n",
       "      <td>0.0</td>\n",
       "      <td>0.815985</td>\n",
       "      <td>2.45843</td>\n",
       "      <td>1.129660</td>\n",
       "    </tr>\n",
       "    <tr>\n",
       "      <th>4</th>\n",
       "      <td>0.0</td>\n",
       "      <td>0.0</td>\n",
       "      <td>0.815985</td>\n",
       "      <td>2.45843</td>\n",
       "      <td>0.000000</td>\n",
       "    </tr>\n",
       "    <tr>\n",
       "      <th>...</th>\n",
       "      <td>...</td>\n",
       "      <td>...</td>\n",
       "      <td>...</td>\n",
       "      <td>...</td>\n",
       "      <td>...</td>\n",
       "    </tr>\n",
       "    <tr>\n",
       "      <th>995</th>\n",
       "      <td>0.0</td>\n",
       "      <td>0.0</td>\n",
       "      <td>0.815985</td>\n",
       "      <td>2.45843</td>\n",
       "      <td>2.454840</td>\n",
       "    </tr>\n",
       "    <tr>\n",
       "      <th>996</th>\n",
       "      <td>0.0</td>\n",
       "      <td>0.0</td>\n",
       "      <td>0.815985</td>\n",
       "      <td>2.45843</td>\n",
       "      <td>2.875930</td>\n",
       "    </tr>\n",
       "    <tr>\n",
       "      <th>997</th>\n",
       "      <td>0.0</td>\n",
       "      <td>0.0</td>\n",
       "      <td>0.815985</td>\n",
       "      <td>2.45843</td>\n",
       "      <td>0.086271</td>\n",
       "    </tr>\n",
       "    <tr>\n",
       "      <th>998</th>\n",
       "      <td>0.0</td>\n",
       "      <td>0.0</td>\n",
       "      <td>0.815985</td>\n",
       "      <td>2.45843</td>\n",
       "      <td>0.000000</td>\n",
       "    </tr>\n",
       "    <tr>\n",
       "      <th>999</th>\n",
       "      <td>0.0</td>\n",
       "      <td>0.0</td>\n",
       "      <td>0.815985</td>\n",
       "      <td>2.45843</td>\n",
       "      <td>1.984900</td>\n",
       "    </tr>\n",
       "  </tbody>\n",
       "</table>\n",
       "<p>1000 rows × 5 columns</p>\n",
       "</div>"
      ],
      "text/plain": [
       "     lp__  accept_stat__      mu_p  sigma_p    height\n",
       "0     0.0            0.0  0.815985  2.45843  0.000000\n",
       "1     0.0            0.0  0.815985  2.45843  0.659479\n",
       "2     0.0            0.0  0.815985  2.45843  0.000000\n",
       "3     0.0            0.0  0.815985  2.45843  1.129660\n",
       "4     0.0            0.0  0.815985  2.45843  0.000000\n",
       "..    ...            ...       ...      ...       ...\n",
       "995   0.0            0.0  0.815985  2.45843  2.454840\n",
       "996   0.0            0.0  0.815985  2.45843  2.875930\n",
       "997   0.0            0.0  0.815985  2.45843  0.086271\n",
       "998   0.0            0.0  0.815985  2.45843  0.000000\n",
       "999   0.0            0.0  0.815985  2.45843  1.984900\n",
       "\n",
       "[1000 rows x 5 columns]"
      ]
     },
     "execution_count": 6,
     "metadata": {},
     "output_type": "execute_result"
    }
   ],
   "source": [
    "sim_df = sim.draws_pd()\n",
    "sim_df"
   ]
  },
  {
   "cell_type": "code",
   "execution_count": null,
   "metadata": {},
   "outputs": [],
   "source": []
  }
 ],
 "metadata": {
  "kernelspec": {
   "display_name": "Python 3",
   "language": "python",
   "name": "python3"
  },
  "language_info": {
   "codemirror_mode": {
    "name": "ipython",
    "version": 3
   },
   "file_extension": ".py",
   "mimetype": "text/x-python",
   "name": "python",
   "nbconvert_exporter": "python",
   "pygments_lexer": "ipython3",
   "version": "3.9.11"
  },
  "orig_nbformat": 4
 },
 "nbformat": 4,
 "nbformat_minor": 2
}
