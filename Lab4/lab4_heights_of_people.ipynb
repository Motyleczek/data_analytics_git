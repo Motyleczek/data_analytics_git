{
 "cells": [
  {
   "attachments": {},
   "cell_type": "markdown",
   "metadata": {},
   "source": [
    "# Lab 4 - Linear models - modelling height of !Kung people\n",
    "\n",
    "During the excercise, we will be covering design of model for heights of certain population of people.\n",
    "Specific tasks are in the laboratory notebook, following there are specifications for the required models. \n",
    "\n",
    "<hr>\n"
   ]
  },
  {
   "cell_type": "code",
   "execution_count": 10,
   "metadata": {},
   "outputs": [],
   "source": [
    "from cmdstanpy import CmdStanModel\n",
    "\n",
    "\n",
    "import arviz as az\n",
    "import numpy as np\n",
    "import scipy.stats as stats\n",
    "import seaborn as sns\n",
    "\n",
    "import matplotlib.pyplot as plt\n",
    "import pandas as pd"
   ]
  },
  {
   "attachments": {},
   "cell_type": "markdown",
   "metadata": {},
   "source": [
    "### Ex. 1 Prepare the models:\n",
    "\n",
    "```height_1_ppc.stan```\n",
    "\n",
    "\n",
    "Generated quantities model, that would sample $\\mu$ from normal prior distribution. It is supposed to represent our general knowledge about heights of people so assign reasonable mean height and standard deviation of those values. Our measurement error is unknown, but reasonably it would be on average 15 cm, propose a distribution and parameters for prior of standard deviation $\\sigma$. Finally sample measurement of ```height``` from normal distribution with previously sampled $\\mu$ and $\\sigma$. Use this model to select parameters for priors to provide reasonable spreads of heights. \n",
    "\n",
    "<hr>\n",
    "\n",
    "```height_1_fit.stan```\n",
    "\n",
    "Create a model for fitting model without predictors. \n",
    "For this purpose:\n",
    "\n",
    "- specify ```data``` block with ```N``` samples, and input real array of size ```N``` called ```heights```\n",
    "- specify ```parameters``` block with $\\mu$ and $\\sigma$ (set up appropriate types and constraints)\n",
    "- in ```model``` block specify priors with appropriately selected parameters and normal likelihood using those parameters.\n",
    "- in ```generated quantites``` block sample a single height consistent with the model.\n",
    "\n",
    "<hr>\n",
    "\n",
    "```height_2a_ppc.stan```\n",
    "\n",
    "Modify the previous prior predictive check model by:\n",
    "- adding ```data``` block with ```N``` samples, and input real array of size ```N``` called ```weight```\n",
    "- new variable $\\alpha$ for intercept with same prior as $\\mu$ in previous model\n",
    "- add a standard normal prior for predictor coefficient $\\beta$\n",
    "- create a size ```N``` real array called ```height``` and with a ```for``` loop fill it with normal samples with standard deviation $\\sigma$ and mean $\\alpha+\\beta\\cdot\\mathrm{weight}[i]$\n",
    "\n",
    "<hr>\n",
    "\n",
    "```height_2b_ppc.stan```\n",
    "\n",
    "Modify the previous prior predictive check model to use lognormal distribution for $\\beta$.  \n",
    "\n",
    "<hr>\n",
    "\n",
    "```height_2_fit.stan```\n",
    "\n",
    "Modify previous model for fitting, by:\n",
    "- adding to ```data``` block an input real array of size ```N``` called ```weight```\n",
    "- adding to ```parameters``` a new one - $\\beta$\n",
    "- create a new block ```transformed parameters``` where with a ```for``` loop a new real array parameter of size [N] is created with $\\mu=\\alpha+\\beta\\cdot\\mathrm{weight}[i]$\n",
    "- in ```model``` add the prior for $\\beta$ and evaluate likelihood in a loop over all values of $\\mu$ array.\n",
    "- in ```generated quantites``` block sample ```N``` dimensional array height over all values of $\\mu$ array.\n",
    "We focus on models in the form\n",
    "    $$y \\sim \\mathrm{Normal}(\\alpha+X\\beta,\\sigma)$$\n",
    "\n",
    "We will try to fit $\\mathrm{Normal}(\\mu, \\sigma)$ distribution to height data. Special case of linear model with $\\beta=0$."
   ]
  },
  {
   "cell_type": "code",
   "execution_count": 2,
   "metadata": {},
   "outputs": [
    {
     "data": {
      "text/html": [
       "<div>\n",
       "<style scoped>\n",
       "    .dataframe tbody tr th:only-of-type {\n",
       "        vertical-align: middle;\n",
       "    }\n",
       "\n",
       "    .dataframe tbody tr th {\n",
       "        vertical-align: top;\n",
       "    }\n",
       "\n",
       "    .dataframe thead th {\n",
       "        text-align: right;\n",
       "    }\n",
       "</style>\n",
       "<table border=\"1\" class=\"dataframe\">\n",
       "  <thead>\n",
       "    <tr style=\"text-align: right;\">\n",
       "      <th></th>\n",
       "      <th>height</th>\n",
       "      <th>weight</th>\n",
       "      <th>age</th>\n",
       "      <th>male</th>\n",
       "    </tr>\n",
       "  </thead>\n",
       "  <tbody>\n",
       "    <tr>\n",
       "      <th>0</th>\n",
       "      <td>151.765</td>\n",
       "      <td>47.825606</td>\n",
       "      <td>63.0</td>\n",
       "      <td>1</td>\n",
       "    </tr>\n",
       "    <tr>\n",
       "      <th>1</th>\n",
       "      <td>139.700</td>\n",
       "      <td>36.485807</td>\n",
       "      <td>63.0</td>\n",
       "      <td>0</td>\n",
       "    </tr>\n",
       "    <tr>\n",
       "      <th>2</th>\n",
       "      <td>136.525</td>\n",
       "      <td>31.864838</td>\n",
       "      <td>65.0</td>\n",
       "      <td>0</td>\n",
       "    </tr>\n",
       "    <tr>\n",
       "      <th>3</th>\n",
       "      <td>156.845</td>\n",
       "      <td>53.041914</td>\n",
       "      <td>41.0</td>\n",
       "      <td>1</td>\n",
       "    </tr>\n",
       "    <tr>\n",
       "      <th>4</th>\n",
       "      <td>145.415</td>\n",
       "      <td>41.276872</td>\n",
       "      <td>51.0</td>\n",
       "      <td>0</td>\n",
       "    </tr>\n",
       "  </tbody>\n",
       "</table>\n",
       "</div>"
      ],
      "text/plain": [
       "    height     weight   age  male\n",
       "0  151.765  47.825606  63.0     1\n",
       "1  139.700  36.485807  63.0     0\n",
       "2  136.525  31.864838  65.0     0\n",
       "3  156.845  53.041914  41.0     1\n",
       "4  145.415  41.276872  51.0     0"
      ]
     },
     "execution_count": 2,
     "metadata": {},
     "output_type": "execute_result"
    }
   ],
   "source": [
    "_BASE_URL = \"https://raw.githubusercontent.com/rmcelreath/rethinking/Experimental/data\"\n",
    "HOWELL_DATASET_PATH = f\"{_BASE_URL}/Howell1.csv\"\n",
    "d = pd.read_csv(HOWELL_DATASET_PATH, sep=';', header=0)\n",
    "d=d[d.age>=18] #just adults \n",
    "d.head()"
   ]
  },
  {
   "cell_type": "code",
   "execution_count": 3,
   "metadata": {},
   "outputs": [
    {
     "data": {
      "text/html": [
       "<div>\n",
       "<style scoped>\n",
       "    .dataframe tbody tr th:only-of-type {\n",
       "        vertical-align: middle;\n",
       "    }\n",
       "\n",
       "    .dataframe tbody tr th {\n",
       "        vertical-align: top;\n",
       "    }\n",
       "\n",
       "    .dataframe thead th {\n",
       "        text-align: right;\n",
       "    }\n",
       "</style>\n",
       "<table border=\"1\" class=\"dataframe\">\n",
       "  <thead>\n",
       "    <tr style=\"text-align: right;\">\n",
       "      <th></th>\n",
       "      <th>height</th>\n",
       "      <th>weight</th>\n",
       "      <th>age</th>\n",
       "      <th>male</th>\n",
       "    </tr>\n",
       "  </thead>\n",
       "  <tbody>\n",
       "    <tr>\n",
       "      <th>count</th>\n",
       "      <td>352.000000</td>\n",
       "      <td>352.000000</td>\n",
       "      <td>352.000000</td>\n",
       "      <td>352.000000</td>\n",
       "    </tr>\n",
       "    <tr>\n",
       "      <th>mean</th>\n",
       "      <td>154.597093</td>\n",
       "      <td>44.990486</td>\n",
       "      <td>41.138494</td>\n",
       "      <td>0.468750</td>\n",
       "    </tr>\n",
       "    <tr>\n",
       "      <th>std</th>\n",
       "      <td>7.742332</td>\n",
       "      <td>6.456708</td>\n",
       "      <td>15.967855</td>\n",
       "      <td>0.499733</td>\n",
       "    </tr>\n",
       "    <tr>\n",
       "      <th>min</th>\n",
       "      <td>136.525000</td>\n",
       "      <td>31.071052</td>\n",
       "      <td>18.000000</td>\n",
       "      <td>0.000000</td>\n",
       "    </tr>\n",
       "    <tr>\n",
       "      <th>25%</th>\n",
       "      <td>148.590000</td>\n",
       "      <td>40.256290</td>\n",
       "      <td>28.000000</td>\n",
       "      <td>0.000000</td>\n",
       "    </tr>\n",
       "    <tr>\n",
       "      <th>50%</th>\n",
       "      <td>154.305000</td>\n",
       "      <td>44.792210</td>\n",
       "      <td>39.000000</td>\n",
       "      <td>0.000000</td>\n",
       "    </tr>\n",
       "    <tr>\n",
       "      <th>75%</th>\n",
       "      <td>160.655000</td>\n",
       "      <td>49.292693</td>\n",
       "      <td>51.000000</td>\n",
       "      <td>1.000000</td>\n",
       "    </tr>\n",
       "    <tr>\n",
       "      <th>max</th>\n",
       "      <td>179.070000</td>\n",
       "      <td>62.992589</td>\n",
       "      <td>88.000000</td>\n",
       "      <td>1.000000</td>\n",
       "    </tr>\n",
       "  </tbody>\n",
       "</table>\n",
       "</div>"
      ],
      "text/plain": [
       "           height      weight         age        male\n",
       "count  352.000000  352.000000  352.000000  352.000000\n",
       "mean   154.597093   44.990486   41.138494    0.468750\n",
       "std      7.742332    6.456708   15.967855    0.499733\n",
       "min    136.525000   31.071052   18.000000    0.000000\n",
       "25%    148.590000   40.256290   28.000000    0.000000\n",
       "50%    154.305000   44.792210   39.000000    0.000000\n",
       "75%    160.655000   49.292693   51.000000    1.000000\n",
       "max    179.070000   62.992589   88.000000    1.000000"
      ]
     },
     "execution_count": 3,
     "metadata": {},
     "output_type": "execute_result"
    }
   ],
   "source": [
    "d.describe()"
   ]
  },
  {
   "attachments": {},
   "cell_type": "markdown",
   "metadata": {},
   "source": [
    "#### Task 1. Prior predictive check"
   ]
  },
  {
   "cell_type": "code",
   "execution_count": 6,
   "metadata": {},
   "outputs": [
    {
     "name": "stderr",
     "output_type": "stream",
     "text": [
      "INFO:cmdstanpy:compiling stan file /home/Lab4/height_1_ppc.stan to exe file /home/Lab4/height_1_ppc\n",
      "INFO:cmdstanpy:compiled model executable: /home/Lab4/height_1_ppc\n",
      "INFO:cmdstanpy:CmdStan start processing\n",
      "chain 1 |\u001b[34m██████████\u001b[0m| 00:00 Sampling completed"
     ]
    },
    {
     "name": "stdout",
     "output_type": "stream",
     "text": [
      "                                                                                "
     ]
    },
    {
     "name": "stderr",
     "output_type": "stream",
     "text": [
      "\n",
      "INFO:cmdstanpy:CmdStan done processing.\n"
     ]
    },
    {
     "name": "stdout",
     "output_type": "stream",
     "text": [
      "\n"
     ]
    }
   ],
   "source": [
    "model_ppc=CmdStanModel(stan_file='height_1_ppc.stan')\n",
    "\n",
    "R = 1000\n",
    "# changed it to write it in by hand\n",
    "# data = {\"mu\":d.height.mean(), \"sigma\":d.height.std()}\n",
    "sim=model_ppc.sample(iter_sampling=R,\n",
    "                     iter_warmup=0,\n",
    "                     chains=1,\n",
    "                     fixed_param=True,\n",
    "                     seed=29042020,refresh=R)"
   ]
  },
  {
   "cell_type": "code",
   "execution_count": 7,
   "metadata": {},
   "outputs": [
    {
     "data": {
      "text/html": [
       "<div>\n",
       "<style scoped>\n",
       "    .dataframe tbody tr th:only-of-type {\n",
       "        vertical-align: middle;\n",
       "    }\n",
       "\n",
       "    .dataframe tbody tr th {\n",
       "        vertical-align: top;\n",
       "    }\n",
       "\n",
       "    .dataframe thead th {\n",
       "        text-align: right;\n",
       "    }\n",
       "</style>\n",
       "<table border=\"1\" class=\"dataframe\">\n",
       "  <thead>\n",
       "    <tr style=\"text-align: right;\">\n",
       "      <th></th>\n",
       "      <th>lp__</th>\n",
       "      <th>accept_stat__</th>\n",
       "      <th>mu</th>\n",
       "      <th>sigma</th>\n",
       "      <th>height</th>\n",
       "    </tr>\n",
       "  </thead>\n",
       "  <tbody>\n",
       "    <tr>\n",
       "      <th>0</th>\n",
       "      <td>0.0</td>\n",
       "      <td>0.0</td>\n",
       "      <td>174.853</td>\n",
       "      <td>17.3315</td>\n",
       "      <td>152.803</td>\n",
       "    </tr>\n",
       "    <tr>\n",
       "      <th>1</th>\n",
       "      <td>0.0</td>\n",
       "      <td>0.0</td>\n",
       "      <td>154.982</td>\n",
       "      <td>10.8317</td>\n",
       "      <td>157.649</td>\n",
       "    </tr>\n",
       "    <tr>\n",
       "      <th>2</th>\n",
       "      <td>0.0</td>\n",
       "      <td>0.0</td>\n",
       "      <td>163.230</td>\n",
       "      <td>21.7960</td>\n",
       "      <td>184.391</td>\n",
       "    </tr>\n",
       "    <tr>\n",
       "      <th>3</th>\n",
       "      <td>0.0</td>\n",
       "      <td>0.0</td>\n",
       "      <td>158.276</td>\n",
       "      <td>16.7968</td>\n",
       "      <td>157.906</td>\n",
       "    </tr>\n",
       "    <tr>\n",
       "      <th>4</th>\n",
       "      <td>0.0</td>\n",
       "      <td>0.0</td>\n",
       "      <td>164.103</td>\n",
       "      <td>13.9736</td>\n",
       "      <td>159.755</td>\n",
       "    </tr>\n",
       "    <tr>\n",
       "      <th>...</th>\n",
       "      <td>...</td>\n",
       "      <td>...</td>\n",
       "      <td>...</td>\n",
       "      <td>...</td>\n",
       "      <td>...</td>\n",
       "    </tr>\n",
       "    <tr>\n",
       "      <th>995</th>\n",
       "      <td>0.0</td>\n",
       "      <td>0.0</td>\n",
       "      <td>153.791</td>\n",
       "      <td>16.5634</td>\n",
       "      <td>166.787</td>\n",
       "    </tr>\n",
       "    <tr>\n",
       "      <th>996</th>\n",
       "      <td>0.0</td>\n",
       "      <td>0.0</td>\n",
       "      <td>150.873</td>\n",
       "      <td>11.4199</td>\n",
       "      <td>154.000</td>\n",
       "    </tr>\n",
       "    <tr>\n",
       "      <th>997</th>\n",
       "      <td>0.0</td>\n",
       "      <td>0.0</td>\n",
       "      <td>149.099</td>\n",
       "      <td>14.6963</td>\n",
       "      <td>150.145</td>\n",
       "    </tr>\n",
       "    <tr>\n",
       "      <th>998</th>\n",
       "      <td>0.0</td>\n",
       "      <td>0.0</td>\n",
       "      <td>154.071</td>\n",
       "      <td>15.7439</td>\n",
       "      <td>130.036</td>\n",
       "    </tr>\n",
       "    <tr>\n",
       "      <th>999</th>\n",
       "      <td>0.0</td>\n",
       "      <td>0.0</td>\n",
       "      <td>137.291</td>\n",
       "      <td>15.1180</td>\n",
       "      <td>140.957</td>\n",
       "    </tr>\n",
       "  </tbody>\n",
       "</table>\n",
       "<p>1000 rows × 5 columns</p>\n",
       "</div>"
      ],
      "text/plain": [
       "     lp__  accept_stat__       mu    sigma   height\n",
       "0     0.0            0.0  174.853  17.3315  152.803\n",
       "1     0.0            0.0  154.982  10.8317  157.649\n",
       "2     0.0            0.0  163.230  21.7960  184.391\n",
       "3     0.0            0.0  158.276  16.7968  157.906\n",
       "4     0.0            0.0  164.103  13.9736  159.755\n",
       "..    ...            ...      ...      ...      ...\n",
       "995   0.0            0.0  153.791  16.5634  166.787\n",
       "996   0.0            0.0  150.873  11.4199  154.000\n",
       "997   0.0            0.0  149.099  14.6963  150.145\n",
       "998   0.0            0.0  154.071  15.7439  130.036\n",
       "999   0.0            0.0  137.291  15.1180  140.957\n",
       "\n",
       "[1000 rows x 5 columns]"
      ]
     },
     "execution_count": 7,
     "metadata": {},
     "output_type": "execute_result"
    }
   ],
   "source": [
    "sim_df = sim.draws_pd()\n",
    "sim_df"
   ]
  },
  {
   "cell_type": "code",
   "execution_count": 8,
   "metadata": {},
   "outputs": [
    {
     "data": {
      "text/html": [
       "<div>\n",
       "<style scoped>\n",
       "    .dataframe tbody tr th:only-of-type {\n",
       "        vertical-align: middle;\n",
       "    }\n",
       "\n",
       "    .dataframe tbody tr th {\n",
       "        vertical-align: top;\n",
       "    }\n",
       "\n",
       "    .dataframe thead th {\n",
       "        text-align: right;\n",
       "    }\n",
       "</style>\n",
       "<table border=\"1\" class=\"dataframe\">\n",
       "  <thead>\n",
       "    <tr style=\"text-align: right;\">\n",
       "      <th></th>\n",
       "      <th>lp__</th>\n",
       "      <th>accept_stat__</th>\n",
       "      <th>mu</th>\n",
       "      <th>sigma</th>\n",
       "      <th>height</th>\n",
       "    </tr>\n",
       "  </thead>\n",
       "  <tbody>\n",
       "    <tr>\n",
       "      <th>count</th>\n",
       "      <td>1000.0</td>\n",
       "      <td>1000.0</td>\n",
       "      <td>1000.000000</td>\n",
       "      <td>1000.000000</td>\n",
       "      <td>1000.000000</td>\n",
       "    </tr>\n",
       "    <tr>\n",
       "      <th>mean</th>\n",
       "      <td>0.0</td>\n",
       "      <td>0.0</td>\n",
       "      <td>154.295303</td>\n",
       "      <td>14.945527</td>\n",
       "      <td>155.377509</td>\n",
       "    </tr>\n",
       "    <tr>\n",
       "      <th>std</th>\n",
       "      <td>0.0</td>\n",
       "      <td>0.0</td>\n",
       "      <td>7.802581</td>\n",
       "      <td>3.019284</td>\n",
       "      <td>17.412460</td>\n",
       "    </tr>\n",
       "    <tr>\n",
       "      <th>min</th>\n",
       "      <td>0.0</td>\n",
       "      <td>0.0</td>\n",
       "      <td>131.821000</td>\n",
       "      <td>6.307570</td>\n",
       "      <td>95.601800</td>\n",
       "    </tr>\n",
       "    <tr>\n",
       "      <th>25%</th>\n",
       "      <td>0.0</td>\n",
       "      <td>0.0</td>\n",
       "      <td>149.042250</td>\n",
       "      <td>12.888850</td>\n",
       "      <td>143.972500</td>\n",
       "    </tr>\n",
       "    <tr>\n",
       "      <th>50%</th>\n",
       "      <td>0.0</td>\n",
       "      <td>0.0</td>\n",
       "      <td>154.171000</td>\n",
       "      <td>15.066300</td>\n",
       "      <td>155.222500</td>\n",
       "    </tr>\n",
       "    <tr>\n",
       "      <th>75%</th>\n",
       "      <td>0.0</td>\n",
       "      <td>0.0</td>\n",
       "      <td>159.683500</td>\n",
       "      <td>16.942100</td>\n",
       "      <td>165.386250</td>\n",
       "    </tr>\n",
       "    <tr>\n",
       "      <th>max</th>\n",
       "      <td>0.0</td>\n",
       "      <td>0.0</td>\n",
       "      <td>183.640000</td>\n",
       "      <td>25.082800</td>\n",
       "      <td>221.431000</td>\n",
       "    </tr>\n",
       "  </tbody>\n",
       "</table>\n",
       "</div>"
      ],
      "text/plain": [
       "         lp__  accept_stat__           mu        sigma       height\n",
       "count  1000.0         1000.0  1000.000000  1000.000000  1000.000000\n",
       "mean      0.0            0.0   154.295303    14.945527   155.377509\n",
       "std       0.0            0.0     7.802581     3.019284    17.412460\n",
       "min       0.0            0.0   131.821000     6.307570    95.601800\n",
       "25%       0.0            0.0   149.042250    12.888850   143.972500\n",
       "50%       0.0            0.0   154.171000    15.066300   155.222500\n",
       "75%       0.0            0.0   159.683500    16.942100   165.386250\n",
       "max       0.0            0.0   183.640000    25.082800   221.431000"
      ]
     },
     "execution_count": 8,
     "metadata": {},
     "output_type": "execute_result"
    }
   ],
   "source": [
    "sim_df.describe()"
   ]
  },
  {
   "cell_type": "code",
   "execution_count": 11,
   "metadata": {},
   "outputs": [
    {
     "data": {
      "text/plain": [
       "<AxesSubplot:xlabel='height', ylabel='Density'>"
      ]
     },
     "execution_count": 11,
     "metadata": {},
     "output_type": "execute_result"
    },
    {
     "data": {
      "image/png": "[encoded data removed]",
      "text/plain": [
       "<Figure size 1080x360 with 3 Axes>"
      ]
     },
     "metadata": {
      "needs_background": "light"
     },
     "output_type": "display_data"
    }
   ],
   "source": [
    "# plotting histograms of mu, sigma and simulated height\n",
    "\n",
    "fig, ax = plt.subplots(1, 3, figsize=(15, 5))\n",
    "sns.histplot(x=\"mu\", data=sim_df, stat='density', ax=ax[0])\n",
    "sns.histplot(x=\"sigma\", data=sim_df, stat='density', ax=ax[1])\n",
    "sns.histplot(x=\"height\", data=sim_df, stat='density', ax=ax[2])"
   ]
  },
  {
   "cell_type": "code",
   "execution_count": 12,
   "metadata": {},
   "outputs": [
    {
     "data": {
      "text/plain": [
       "<seaborn.axisgrid.JointGrid at 0x7f7bd1d43c10>"
      ]
     },
     "execution_count": 12,
     "metadata": {},
     "output_type": "execute_result"
    },
    {
     "data": {
      "image/png": "[encoded data removed]",
      "text/plain": [
       "<Figure size 432x432 with 3 Axes>"
      ]
     },
     "metadata": {
      "needs_background": "light"
     },
     "output_type": "display_data"
    }
   ],
   "source": [
    "# plot a joint distribution of mu and sigma\n",
    "\n",
    "sns.jointplot(data=sim_df, x=\"mu\", y=\"sigma\")"
   ]
  },
  {
   "cell_type": "code",
   "execution_count": 13,
   "metadata": {},
   "outputs": [],
   "source": [
    "# they appear to be consistent with the prior to me - calculated \n",
    "# statistics such as mean and std are very close to the ones we go in the actual dataset, seems ok"
   ]
  },
  {
   "attachments": {},
   "cell_type": "markdown",
   "metadata": {},
   "source": [
    "### 2. Model fit and eval"
   ]
  },
  {
   "cell_type": "code",
   "execution_count": 14,
   "metadata": {},
   "outputs": [
    {
     "name": "stderr",
     "output_type": "stream",
     "text": [
      "INFO:cmdstanpy:compiling stan file /home/Lab4/height_1_fit.stan to exe file /home/Lab4/height_1_fit\n",
      "INFO:cmdstanpy:compiled model executable: /home/Lab4/height_1_fit\n"
     ]
    }
   ],
   "source": [
    "model_1_fit=CmdStanModel(stan_file='height_1_fit.stan')"
   ]
  },
  {
   "cell_type": "code",
   "execution_count": 15,
   "metadata": {},
   "outputs": [
    {
     "name": "stderr",
     "output_type": "stream",
     "text": [
      "INFO:cmdstanpy:CmdStan start processing\n",
      "chain 1 |\u001b[33m          \u001b[0m| 00:00 Status\n",
      "\u001b[A\n",
      "\n",
      "chain 1 |\u001b[33m▍         \u001b[0m| 00:00 Status\n",
      "chain 1 |\u001b[34m█████▉    \u001b[0m| 00:00 Iteration: 1001 / 2000 [ 50%]  (Sampling)\n",
      "\n",
      "\u001b[A\u001b[A\n",
      "\u001b[A\n",
      "\n",
      "\u001b[A\u001b[A\n",
      "chain 1 |\u001b[34m█████████ \u001b[0m| 00:00 Iteration: 1700 / 2000 [ 85%]  (Sampling)\n",
      "\u001b[A\n",
      "\n",
      "\u001b[A\u001b[A\n",
      "\n",
      "chain 1 |\u001b[34m██████████\u001b[0m| 00:00 Sampling completed                       \n",
      "chain 2 |\u001b[34m██████████\u001b[0m| 00:00 Sampling completed                       \n",
      "chain 3 |\u001b[34m██████████\u001b[0m| 00:00 Sampling completed                       \n",
      "chain 4 |\u001b[34m██████████\u001b[0m| 00:00 Sampling completed                       \n"
     ]
    },
    {
     "name": "stdout",
     "output_type": "stream",
     "text": [
      "                                                                                                                                                                                                                                                                                                                                "
     ]
    },
    {
     "name": "stderr",
     "output_type": "stream",
     "text": [
      "INFO:cmdstanpy:CmdStan done processing.\n"
     ]
    },
    {
     "name": "stdout",
     "output_type": "stream",
     "text": [
      "\n"
     ]
    }
   ],
   "source": [
    "fit=model_1_fit.sample(data=dict(N=len(d),heights=d.height.values),\n",
    "                         seed=28052020)"
   ]
  },
  {
   "cell_type": "code",
   "execution_count": 16,
   "metadata": {},
   "outputs": [
    {
     "data": {
      "text/html": [
       "<div>\n",
       "<style scoped>\n",
       "    .dataframe tbody tr th:only-of-type {\n",
       "        vertical-align: middle;\n",
       "    }\n",
       "\n",
       "    .dataframe tbody tr th {\n",
       "        vertical-align: top;\n",
       "    }\n",
       "\n",
       "    .dataframe thead th {\n",
       "        text-align: right;\n",
       "    }\n",
       "</style>\n",
       "<table border=\"1\" class=\"dataframe\">\n",
       "  <thead>\n",
       "    <tr style=\"text-align: right;\">\n",
       "      <th></th>\n",
       "      <th>lp__</th>\n",
       "      <th>accept_stat__</th>\n",
       "      <th>stepsize__</th>\n",
       "      <th>treedepth__</th>\n",
       "      <th>n_leapfrog__</th>\n",
       "      <th>divergent__</th>\n",
       "      <th>energy__</th>\n",
       "      <th>mean</th>\n",
       "      <th>sigma</th>\n",
       "      <th>h_hat</th>\n",
       "    </tr>\n",
       "  </thead>\n",
       "  <tbody>\n",
       "    <tr>\n",
       "      <th>0</th>\n",
       "      <td>-894.124</td>\n",
       "      <td>0.737637</td>\n",
       "      <td>0.660898</td>\n",
       "      <td>2.0</td>\n",
       "      <td>7.0</td>\n",
       "      <td>0.0</td>\n",
       "      <td>895.270</td>\n",
       "      <td>153.811</td>\n",
       "      <td>7.53771</td>\n",
       "      <td>152.352</td>\n",
       "    </tr>\n",
       "    <tr>\n",
       "      <th>1</th>\n",
       "      <td>-891.850</td>\n",
       "      <td>1.000000</td>\n",
       "      <td>0.660898</td>\n",
       "      <td>2.0</td>\n",
       "      <td>3.0</td>\n",
       "      <td>0.0</td>\n",
       "      <td>893.888</td>\n",
       "      <td>154.773</td>\n",
       "      <td>7.84898</td>\n",
       "      <td>159.211</td>\n",
       "    </tr>\n",
       "    <tr>\n",
       "      <th>2</th>\n",
       "      <td>-893.687</td>\n",
       "      <td>0.925208</td>\n",
       "      <td>0.660898</td>\n",
       "      <td>3.0</td>\n",
       "      <td>7.0</td>\n",
       "      <td>0.0</td>\n",
       "      <td>893.945</td>\n",
       "      <td>154.464</td>\n",
       "      <td>8.42781</td>\n",
       "      <td>155.254</td>\n",
       "    </tr>\n",
       "    <tr>\n",
       "      <th>3</th>\n",
       "      <td>-894.386</td>\n",
       "      <td>0.954741</td>\n",
       "      <td>0.660898</td>\n",
       "      <td>3.0</td>\n",
       "      <td>7.0</td>\n",
       "      <td>0.0</td>\n",
       "      <td>894.874</td>\n",
       "      <td>155.034</td>\n",
       "      <td>8.47346</td>\n",
       "      <td>163.065</td>\n",
       "    </tr>\n",
       "    <tr>\n",
       "      <th>4</th>\n",
       "      <td>-894.013</td>\n",
       "      <td>1.000000</td>\n",
       "      <td>0.660898</td>\n",
       "      <td>1.0</td>\n",
       "      <td>1.0</td>\n",
       "      <td>0.0</td>\n",
       "      <td>894.455</td>\n",
       "      <td>154.967</td>\n",
       "      <td>8.43272</td>\n",
       "      <td>153.110</td>\n",
       "    </tr>\n",
       "  </tbody>\n",
       "</table>\n",
       "</div>"
      ],
      "text/plain": [
       "      lp__  accept_stat__  stepsize__  treedepth__  n_leapfrog__  divergent__  \\\n",
       "0 -894.124       0.737637    0.660898          2.0           7.0          0.0   \n",
       "1 -891.850       1.000000    0.660898          2.0           3.0          0.0   \n",
       "2 -893.687       0.925208    0.660898          3.0           7.0          0.0   \n",
       "3 -894.386       0.954741    0.660898          3.0           7.0          0.0   \n",
       "4 -894.013       1.000000    0.660898          1.0           1.0          0.0   \n",
       "\n",
       "   energy__     mean    sigma    h_hat  \n",
       "0   895.270  153.811  7.53771  152.352  \n",
       "1   893.888  154.773  7.84898  159.211  \n",
       "2   893.945  154.464  8.42781  155.254  \n",
       "3   894.874  155.034  8.47346  163.065  \n",
       "4   894.455  154.967  8.43272  153.110  "
      ]
     },
     "execution_count": 16,
     "metadata": {},
     "output_type": "execute_result"
    }
   ],
   "source": [
    "df = fit.draws_pd()\n",
    "df.head()"
   ]
  },
  {
   "cell_type": "code",
   "execution_count": 17,
   "metadata": {},
   "outputs": [
    {
     "data": {
      "text/plain": [
       "<seaborn.axisgrid.JointGrid at 0x7f7bd1e0dfd0>"
      ]
     },
     "execution_count": 17,
     "metadata": {},
     "output_type": "execute_result"
    },
    {
     "data": {
      "image/png": "[encoded data removed]",
      "text/plain": [
       "<Figure size 432x432 with 3 Axes>"
      ]
     },
     "metadata": {
      "needs_background": "light"
     },
     "output_type": "display_data"
    }
   ],
   "source": [
    "sns.jointplot(data=df, x='mean', y='sigma')"
   ]
  },
  {
   "cell_type": "code",
   "execution_count": 18,
   "metadata": {},
   "outputs": [
    {
     "data": {
      "text/plain": [
       "<AxesSubplot:xlabel='h_hat', ylabel='Density'>"
      ]
     },
     "execution_count": 18,
     "metadata": {},
     "output_type": "execute_result"
    },
    {
     "data": {
      "image/png": "[encoded data removed]",
      "text/plain": [
       "<Figure size 1152x288 with 2 Axes>"
      ]
     },
     "metadata": {
      "needs_background": "light"
     },
     "output_type": "display_data"
    }
   ],
   "source": [
    "fig, ax = plt.subplots(1, 2, figsize=(16, 4))\n",
    "sns.histplot(x=\"height\", data=d, stat='density', ax=ax[0], bins=10)\n",
    "sns.histplot(x=\"h_hat\", data=df, stat='density', ax=ax[1], bins=10)\n",
    "# its not exactly perfect, model seems to have a bell shape, \n",
    "# while data seems to have a stronger tail towards bigger values only"
   ]
  },
  {
   "attachments": {},
   "cell_type": "markdown",
   "metadata": {},
   "source": [
    "### 3. Adding predictor to the model - weight"
   ]
  },
  {
   "cell_type": "code",
   "execution_count": 19,
   "metadata": {},
   "outputs": [],
   "source": [
    "# Create column c_weight in the dataframe containing weights substrated by their mean.\n",
    "\n",
    "d['c_weight'] = d['weight'] - d['weight'].mean()"
   ]
  },
  {
   "cell_type": "code",
   "execution_count": 20,
   "metadata": {},
   "outputs": [],
   "source": [
    "data_sim={'N':50, 'weight':np.linspace(d.c_weight.min(),d.c_weight.max())}"
   ]
  },
  {
   "attachments": {},
   "cell_type": "markdown",
   "metadata": {},
   "source": [
    "### 4. Prior predictive checks"
   ]
  },
  {
   "cell_type": "code",
   "execution_count": 22,
   "metadata": {},
   "outputs": [
    {
     "name": "stderr",
     "output_type": "stream",
     "text": [
      "INFO:cmdstanpy:compiling stan file /home/Lab4/height_2a_ppc.stan to exe file /home/Lab4/height_2a_ppc\n",
      "INFO:cmdstanpy:compiled model executable: /home/Lab4/height_2a_ppc\n",
      "INFO:cmdstanpy:CmdStan start processing\n",
      "chain 1 |\u001b[34m██████████\u001b[0m| 00:00 Sampling completed"
     ]
    },
    {
     "name": "stdout",
     "output_type": "stream",
     "text": [
      "                                                                                "
     ]
    },
    {
     "name": "stderr",
     "output_type": "stream",
     "text": [
      "\n",
      "INFO:cmdstanpy:CmdStan done processing.\n"
     ]
    },
    {
     "name": "stdout",
     "output_type": "stream",
     "text": [
      "\n"
     ]
    }
   ],
   "source": [
    "model_ppc=CmdStanModel(stan_file='height_2a_ppc.stan')\n",
    "R = 1000\n",
    "sim=model_ppc.sample(data=data_sim, \n",
    "                     iter_sampling=R, \n",
    "                     iter_warmup=0, \n",
    "                     chains=1, \n",
    "                     refresh=R,\n",
    "                     fixed_param=True,\n",
    "                     seed=29042020)"
   ]
  },
  {
   "cell_type": "code",
   "execution_count": 23,
   "metadata": {},
   "outputs": [
    {
     "data": {
      "text/html": [
       "<div>\n",
       "<style scoped>\n",
       "    .dataframe tbody tr th:only-of-type {\n",
       "        vertical-align: middle;\n",
       "    }\n",
       "\n",
       "    .dataframe tbody tr th {\n",
       "        vertical-align: top;\n",
       "    }\n",
       "\n",
       "    .dataframe thead th {\n",
       "        text-align: right;\n",
       "    }\n",
       "</style>\n",
       "<table border=\"1\" class=\"dataframe\">\n",
       "  <thead>\n",
       "    <tr style=\"text-align: right;\">\n",
       "      <th></th>\n",
       "      <th>lp__</th>\n",
       "      <th>accept_stat__</th>\n",
       "      <th>alpha</th>\n",
       "      <th>beta</th>\n",
       "      <th>sigma</th>\n",
       "      <th>height[1]</th>\n",
       "      <th>height[2]</th>\n",
       "      <th>height[3]</th>\n",
       "      <th>height[4]</th>\n",
       "      <th>height[5]</th>\n",
       "      <th>...</th>\n",
       "      <th>height[41]</th>\n",
       "      <th>height[42]</th>\n",
       "      <th>height[43]</th>\n",
       "      <th>height[44]</th>\n",
       "      <th>height[45]</th>\n",
       "      <th>height[46]</th>\n",
       "      <th>height[47]</th>\n",
       "      <th>height[48]</th>\n",
       "      <th>height[49]</th>\n",
       "      <th>height[50]</th>\n",
       "    </tr>\n",
       "  </thead>\n",
       "  <tbody>\n",
       "    <tr>\n",
       "      <th>0</th>\n",
       "      <td>0.0</td>\n",
       "      <td>0.0</td>\n",
       "      <td>174.853</td>\n",
       "      <td>0.777181</td>\n",
       "      <td>11.1832</td>\n",
       "      <td>165.4620</td>\n",
       "      <td>149.003</td>\n",
       "      <td>167.800</td>\n",
       "      <td>178.960</td>\n",
       "      <td>191.394</td>\n",
       "      <td>...</td>\n",
       "      <td>197.290</td>\n",
       "      <td>205.850</td>\n",
       "      <td>202.516</td>\n",
       "      <td>188.713</td>\n",
       "      <td>170.851</td>\n",
       "      <td>180.796</td>\n",
       "      <td>184.281</td>\n",
       "      <td>196.372</td>\n",
       "      <td>191.528</td>\n",
       "      <td>196.042</td>\n",
       "    </tr>\n",
       "    <tr>\n",
       "      <th>1</th>\n",
       "      <td>0.0</td>\n",
       "      <td>0.0</td>\n",
       "      <td>144.768</td>\n",
       "      <td>-0.006780</td>\n",
       "      <td>14.9889</td>\n",
       "      <td>163.0720</td>\n",
       "      <td>156.243</td>\n",
       "      <td>155.941</td>\n",
       "      <td>162.508</td>\n",
       "      <td>163.030</td>\n",
       "      <td>...</td>\n",
       "      <td>184.752</td>\n",
       "      <td>144.316</td>\n",
       "      <td>131.185</td>\n",
       "      <td>142.322</td>\n",
       "      <td>130.389</td>\n",
       "      <td>152.391</td>\n",
       "      <td>129.053</td>\n",
       "      <td>143.160</td>\n",
       "      <td>164.202</td>\n",
       "      <td>143.509</td>\n",
       "    </tr>\n",
       "    <tr>\n",
       "      <th>2</th>\n",
       "      <td>0.0</td>\n",
       "      <td>0.0</td>\n",
       "      <td>150.712</td>\n",
       "      <td>-1.138640</td>\n",
       "      <td>11.3344</td>\n",
       "      <td>182.6160</td>\n",
       "      <td>163.686</td>\n",
       "      <td>163.261</td>\n",
       "      <td>171.195</td>\n",
       "      <td>168.059</td>\n",
       "      <td>...</td>\n",
       "      <td>156.712</td>\n",
       "      <td>121.125</td>\n",
       "      <td>152.559</td>\n",
       "      <td>138.475</td>\n",
       "      <td>156.119</td>\n",
       "      <td>133.294</td>\n",
       "      <td>143.718</td>\n",
       "      <td>136.787</td>\n",
       "      <td>130.504</td>\n",
       "      <td>132.634</td>\n",
       "    </tr>\n",
       "    <tr>\n",
       "      <th>3</th>\n",
       "      <td>0.0</td>\n",
       "      <td>0.0</td>\n",
       "      <td>146.438</td>\n",
       "      <td>-0.254452</td>\n",
       "      <td>13.4763</td>\n",
       "      <td>167.8900</td>\n",
       "      <td>140.922</td>\n",
       "      <td>146.712</td>\n",
       "      <td>136.634</td>\n",
       "      <td>146.343</td>\n",
       "      <td>...</td>\n",
       "      <td>150.876</td>\n",
       "      <td>145.270</td>\n",
       "      <td>148.297</td>\n",
       "      <td>162.189</td>\n",
       "      <td>136.760</td>\n",
       "      <td>136.061</td>\n",
       "      <td>154.384</td>\n",
       "      <td>135.735</td>\n",
       "      <td>147.490</td>\n",
       "      <td>137.054</td>\n",
       "    </tr>\n",
       "    <tr>\n",
       "      <th>4</th>\n",
       "      <td>0.0</td>\n",
       "      <td>0.0</td>\n",
       "      <td>146.351</td>\n",
       "      <td>1.671020</td>\n",
       "      <td>12.8918</td>\n",
       "      <td>89.4398</td>\n",
       "      <td>116.555</td>\n",
       "      <td>115.162</td>\n",
       "      <td>116.381</td>\n",
       "      <td>144.133</td>\n",
       "      <td>...</td>\n",
       "      <td>186.902</td>\n",
       "      <td>184.623</td>\n",
       "      <td>159.391</td>\n",
       "      <td>172.202</td>\n",
       "      <td>169.217</td>\n",
       "      <td>166.266</td>\n",
       "      <td>166.319</td>\n",
       "      <td>184.026</td>\n",
       "      <td>182.761</td>\n",
       "      <td>165.941</td>\n",
       "    </tr>\n",
       "  </tbody>\n",
       "</table>\n",
       "<p>5 rows × 55 columns</p>\n",
       "</div>"
      ],
      "text/plain": [
       "   lp__  accept_stat__    alpha      beta    sigma  height[1]  height[2]  \\\n",
       "0   0.0            0.0  174.853  0.777181  11.1832   165.4620    149.003   \n",
       "1   0.0            0.0  144.768 -0.006780  14.9889   163.0720    156.243   \n",
       "2   0.0            0.0  150.712 -1.138640  11.3344   182.6160    163.686   \n",
       "3   0.0            0.0  146.438 -0.254452  13.4763   167.8900    140.922   \n",
       "4   0.0            0.0  146.351  1.671020  12.8918    89.4398    116.555   \n",
       "\n",
       "   height[3]  height[4]  height[5]  ...  height[41]  height[42]  height[43]  \\\n",
       "0    167.800    178.960    191.394  ...     197.290     205.850     202.516   \n",
       "1    155.941    162.508    163.030  ...     184.752     144.316     131.185   \n",
       "2    163.261    171.195    168.059  ...     156.712     121.125     152.559   \n",
       "3    146.712    136.634    146.343  ...     150.876     145.270     148.297   \n",
       "4    115.162    116.381    144.133  ...     186.902     184.623     159.391   \n",
       "\n",
       "   height[44]  height[45]  height[46]  height[47]  height[48]  height[49]  \\\n",
       "0     188.713     170.851     180.796     184.281     196.372     191.528   \n",
       "1     142.322     130.389     152.391     129.053     143.160     164.202   \n",
       "2     138.475     156.119     133.294     143.718     136.787     130.504   \n",
       "3     162.189     136.760     136.061     154.384     135.735     147.490   \n",
       "4     172.202     169.217     166.266     166.319     184.026     182.761   \n",
       "\n",
       "   height[50]  \n",
       "0     196.042  \n",
       "1     143.509  \n",
       "2     132.634  \n",
       "3     137.054  \n",
       "4     165.941  \n",
       "\n",
       "[5 rows x 55 columns]"
      ]
     },
     "execution_count": 23,
     "metadata": {},
     "output_type": "execute_result"
    }
   ],
   "source": [
    "ppc_df = sim.draws_pd()\n",
    "ppc_df.head()"
   ]
  },
  {
   "cell_type": "code",
   "execution_count": 25,
   "metadata": {},
   "outputs": [
    {
     "data": {
      "image/png": "[encoded data removed]",
      "text/plain": [
       "<Figure size 432x288 with 1 Axes>"
      ]
     },
     "metadata": {
      "needs_background": "light"
     },
     "output_type": "display_data"
    }
   ],
   "source": [
    "alpha = ppc_df['alpha'].values\n",
    "beta = ppc_df['beta'].values\n",
    "weight = np.linspace(d.c_weight.min(),d.c_weight.max(), R).reshape((R, 1))\n",
    "h_hat = weight * beta + alpha\n",
    "extended_domain = np.ones((1, R)) * weight\n",
    "plt.plot(extended_domain, h_hat, 'r', alpha=0.05)\n",
    "plt.show()"
   ]
  },
  {
   "cell_type": "code",
   "execution_count": 27,
   "metadata": {},
   "outputs": [],
   "source": [
    "heights = ppc_df.drop([\"lp__\", \"accept_stat__\", \"alpha\", \"beta\", \"sigma\"], axis=1)"
   ]
  },
  {
   "cell_type": "code",
   "execution_count": 28,
   "metadata": {},
   "outputs": [
    {
     "data": {
      "text/plain": [
       "154.13669804199998"
      ]
     },
     "execution_count": 28,
     "metadata": {},
     "output_type": "execute_result"
    }
   ],
   "source": [
    "heights.mean().mean()\n",
    "# mean makes sense, consistent with data"
   ]
  },
  {
   "cell_type": "code",
   "execution_count": 31,
   "metadata": {},
   "outputs": [
    {
     "data": {
      "text/plain": [
       "19.631914757250748"
      ]
     },
     "execution_count": 31,
     "metadata": {},
     "output_type": "execute_result"
    }
   ],
   "source": [
    "heights.values.std()\n",
    "# also makes sens, close to our data's std, not identical tho"
   ]
  },
  {
   "cell_type": "code",
   "execution_count": 32,
   "metadata": {},
   "outputs": [
    {
     "data": {
      "text/plain": [
       "58.7084"
      ]
     },
     "execution_count": 32,
     "metadata": {},
     "output_type": "execute_result"
    }
   ],
   "source": [
    "heights.min().min()"
   ]
  },
  {
   "cell_type": "code",
   "execution_count": 33,
   "metadata": {},
   "outputs": [
    {
     "data": {
      "text/plain": [
       "246.371"
      ]
     },
     "execution_count": 33,
     "metadata": {},
     "output_type": "execute_result"
    }
   ],
   "source": [
    "heights.max().max()"
   ]
  },
  {
   "cell_type": "code",
   "execution_count": 34,
   "metadata": {},
   "outputs": [],
   "source": [
    "# both max and min make sense, maximum height of a human was i think over 270cm"
   ]
  },
  {
   "attachments": {},
   "cell_type": "markdown",
   "metadata": {},
   "source": [
    "### 5. Modifying prior"
   ]
  },
  {
   "cell_type": "code",
   "execution_count": 35,
   "metadata": {},
   "outputs": [],
   "source": [
    "# If prior for beta admits negative values, then it makes no sense. Lets change prior to lognormal distribution."
   ]
  },
  {
   "cell_type": "code",
   "execution_count": 36,
   "metadata": {},
   "outputs": [
    {
     "name": "stderr",
     "output_type": "stream",
     "text": [
      "INFO:cmdstanpy:compiling stan file /home/Lab4/height_2b_ppc.stan to exe file /home/Lab4/height_2b_ppc\n",
      "INFO:cmdstanpy:compiled model executable: /home/Lab4/height_2b_ppc\n"
     ]
    }
   ],
   "source": [
    "model_ppc=CmdStanModel(stan_file='height_2b_ppc.stan')"
   ]
  },
  {
   "cell_type": "code",
   "execution_count": 37,
   "metadata": {},
   "outputs": [
    {
     "name": "stderr",
     "output_type": "stream",
     "text": [
      "INFO:cmdstanpy:CmdStan start processing\n",
      "chain 1 |\u001b[34m██████████\u001b[0m| 00:00 Sampling completed                      "
     ]
    },
    {
     "name": "stdout",
     "output_type": "stream",
     "text": [
      "                                                                                "
     ]
    },
    {
     "name": "stderr",
     "output_type": "stream",
     "text": [
      "\n",
      "INFO:cmdstanpy:CmdStan done processing.\n"
     ]
    },
    {
     "name": "stdout",
     "output_type": "stream",
     "text": [
      "\n"
     ]
    }
   ],
   "source": [
    "sim=model_ppc.sample(data=data_sim, \n",
    "                     iter_sampling=R, \n",
    "                     iter_warmup=0, \n",
    "                     chains=1, \n",
    "                     refresh=R,\n",
    "                     fixed_param=True,\n",
    "                     seed=29042020)"
   ]
  },
  {
   "cell_type": "code",
   "execution_count": 38,
   "metadata": {},
   "outputs": [
    {
     "data": {
      "text/html": [
       "<div>\n",
       "<style scoped>\n",
       "    .dataframe tbody tr th:only-of-type {\n",
       "        vertical-align: middle;\n",
       "    }\n",
       "\n",
       "    .dataframe tbody tr th {\n",
       "        vertical-align: top;\n",
       "    }\n",
       "\n",
       "    .dataframe thead th {\n",
       "        text-align: right;\n",
       "    }\n",
       "</style>\n",
       "<table border=\"1\" class=\"dataframe\">\n",
       "  <thead>\n",
       "    <tr style=\"text-align: right;\">\n",
       "      <th></th>\n",
       "      <th>lp__</th>\n",
       "      <th>accept_stat__</th>\n",
       "      <th>alpha</th>\n",
       "      <th>beta</th>\n",
       "      <th>sigma</th>\n",
       "      <th>height[1]</th>\n",
       "      <th>height[2]</th>\n",
       "      <th>height[3]</th>\n",
       "      <th>height[4]</th>\n",
       "      <th>height[5]</th>\n",
       "      <th>...</th>\n",
       "      <th>height[41]</th>\n",
       "      <th>height[42]</th>\n",
       "      <th>height[43]</th>\n",
       "      <th>height[44]</th>\n",
       "      <th>height[45]</th>\n",
       "      <th>height[46]</th>\n",
       "      <th>height[47]</th>\n",
       "      <th>height[48]</th>\n",
       "      <th>height[49]</th>\n",
       "      <th>height[50]</th>\n",
       "    </tr>\n",
       "  </thead>\n",
       "  <tbody>\n",
       "    <tr>\n",
       "      <th>0</th>\n",
       "      <td>0.0</td>\n",
       "      <td>0.0</td>\n",
       "      <td>174.853</td>\n",
       "      <td>2.175330</td>\n",
       "      <td>11.1832</td>\n",
       "      <td>146.0000</td>\n",
       "      <td>130.4530</td>\n",
       "      <td>150.1610</td>\n",
       "      <td>162.2310</td>\n",
       "      <td>175.576</td>\n",
       "      <td>...</td>\n",
       "      <td>214.263</td>\n",
       "      <td>223.733</td>\n",
       "      <td>221.309</td>\n",
       "      <td>208.417</td>\n",
       "      <td>191.467</td>\n",
       "      <td>202.322</td>\n",
       "      <td>206.719</td>\n",
       "      <td>219.720</td>\n",
       "      <td>215.787</td>\n",
       "      <td>221.211</td>\n",
       "    </tr>\n",
       "    <tr>\n",
       "      <th>1</th>\n",
       "      <td>0.0</td>\n",
       "      <td>0.0</td>\n",
       "      <td>144.768</td>\n",
       "      <td>0.993243</td>\n",
       "      <td>14.9889</td>\n",
       "      <td>149.1520</td>\n",
       "      <td>142.9750</td>\n",
       "      <td>143.3240</td>\n",
       "      <td>150.5430</td>\n",
       "      <td>151.716</td>\n",
       "      <td>...</td>\n",
       "      <td>196.891</td>\n",
       "      <td>157.106</td>\n",
       "      <td>144.627</td>\n",
       "      <td>156.416</td>\n",
       "      <td>145.134</td>\n",
       "      <td>167.787</td>\n",
       "      <td>145.101</td>\n",
       "      <td>159.859</td>\n",
       "      <td>181.553</td>\n",
       "      <td>161.511</td>\n",
       "    </tr>\n",
       "    <tr>\n",
       "      <th>2</th>\n",
       "      <td>0.0</td>\n",
       "      <td>0.0</td>\n",
       "      <td>150.712</td>\n",
       "      <td>0.320255</td>\n",
       "      <td>11.3344</td>\n",
       "      <td>162.3100</td>\n",
       "      <td>144.3300</td>\n",
       "      <td>144.8550</td>\n",
       "      <td>153.7390</td>\n",
       "      <td>151.554</td>\n",
       "      <td>...</td>\n",
       "      <td>174.421</td>\n",
       "      <td>139.785</td>\n",
       "      <td>172.170</td>\n",
       "      <td>159.036</td>\n",
       "      <td>177.630</td>\n",
       "      <td>155.755</td>\n",
       "      <td>167.130</td>\n",
       "      <td>161.150</td>\n",
       "      <td>155.817</td>\n",
       "      <td>158.897</td>\n",
       "    </tr>\n",
       "    <tr>\n",
       "      <th>3</th>\n",
       "      <td>0.0</td>\n",
       "      <td>0.0</td>\n",
       "      <td>146.438</td>\n",
       "      <td>0.775342</td>\n",
       "      <td>13.4763</td>\n",
       "      <td>153.5560</td>\n",
       "      <td>127.2590</td>\n",
       "      <td>133.7200</td>\n",
       "      <td>124.3120</td>\n",
       "      <td>134.692</td>\n",
       "      <td>...</td>\n",
       "      <td>163.377</td>\n",
       "      <td>158.442</td>\n",
       "      <td>162.140</td>\n",
       "      <td>176.703</td>\n",
       "      <td>151.944</td>\n",
       "      <td>151.916</td>\n",
       "      <td>170.910</td>\n",
       "      <td>152.932</td>\n",
       "      <td>165.357</td>\n",
       "      <td>155.593</td>\n",
       "    </tr>\n",
       "    <tr>\n",
       "      <th>4</th>\n",
       "      <td>0.0</td>\n",
       "      <td>0.0</td>\n",
       "      <td>146.351</td>\n",
       "      <td>5.317560</td>\n",
       "      <td>12.8918</td>\n",
       "      <td>38.6819</td>\n",
       "      <td>68.1728</td>\n",
       "      <td>69.1555</td>\n",
       "      <td>72.7499</td>\n",
       "      <td>102.878</td>\n",
       "      <td>...</td>\n",
       "      <td>231.168</td>\n",
       "      <td>231.264</td>\n",
       "      <td>208.407</td>\n",
       "      <td>223.594</td>\n",
       "      <td>222.984</td>\n",
       "      <td>222.409</td>\n",
       "      <td>224.838</td>\n",
       "      <td>244.921</td>\n",
       "      <td>246.031</td>\n",
       "      <td>231.587</td>\n",
       "    </tr>\n",
       "  </tbody>\n",
       "</table>\n",
       "<p>5 rows × 55 columns</p>\n",
       "</div>"
      ],
      "text/plain": [
       "   lp__  accept_stat__    alpha      beta    sigma  height[1]  height[2]  \\\n",
       "0   0.0            0.0  174.853  2.175330  11.1832   146.0000   130.4530   \n",
       "1   0.0            0.0  144.768  0.993243  14.9889   149.1520   142.9750   \n",
       "2   0.0            0.0  150.712  0.320255  11.3344   162.3100   144.3300   \n",
       "3   0.0            0.0  146.438  0.775342  13.4763   153.5560   127.2590   \n",
       "4   0.0            0.0  146.351  5.317560  12.8918    38.6819    68.1728   \n",
       "\n",
       "   height[3]  height[4]  height[5]  ...  height[41]  height[42]  height[43]  \\\n",
       "0   150.1610   162.2310    175.576  ...     214.263     223.733     221.309   \n",
       "1   143.3240   150.5430    151.716  ...     196.891     157.106     144.627   \n",
       "2   144.8550   153.7390    151.554  ...     174.421     139.785     172.170   \n",
       "3   133.7200   124.3120    134.692  ...     163.377     158.442     162.140   \n",
       "4    69.1555    72.7499    102.878  ...     231.168     231.264     208.407   \n",
       "\n",
       "   height[44]  height[45]  height[46]  height[47]  height[48]  height[49]  \\\n",
       "0     208.417     191.467     202.322     206.719     219.720     215.787   \n",
       "1     156.416     145.134     167.787     145.101     159.859     181.553   \n",
       "2     159.036     177.630     155.755     167.130     161.150     155.817   \n",
       "3     176.703     151.944     151.916     170.910     152.932     165.357   \n",
       "4     223.594     222.984     222.409     224.838     244.921     246.031   \n",
       "\n",
       "   height[50]  \n",
       "0     221.211  \n",
       "1     161.511  \n",
       "2     158.897  \n",
       "3     155.593  \n",
       "4     231.587  \n",
       "\n",
       "[5 rows x 55 columns]"
      ]
     },
     "execution_count": 38,
     "metadata": {},
     "output_type": "execute_result"
    }
   ],
   "source": [
    "ppc_df = sim.draws_pd()\n",
    "ppc_df.head()"
   ]
  },
  {
   "cell_type": "code",
   "execution_count": 39,
   "metadata": {},
   "outputs": [
    {
     "data": {
      "image/png": "[encoded data removed]",
      "text/plain": [
       "<Figure size 432x288 with 1 Axes>"
      ]
     },
     "metadata": {
      "needs_background": "light"
     },
     "output_type": "display_data"
    }
   ],
   "source": [
    "alpha = ppc_df['alpha'].values\n",
    "beta = ppc_df['beta'].values\n",
    "h_hat = weight * beta + alpha\n",
    "plt.plot(extended_domain, h_hat, 'r', alpha=0.05)\n",
    "plt.show()"
   ]
  },
  {
   "cell_type": "code",
   "execution_count": 40,
   "metadata": {},
   "outputs": [
    {
     "data": {
      "text/plain": [
       "<matplotlib.collections.PathCollection at 0x7f7bb35072b0>"
      ]
     },
     "execution_count": 40,
     "metadata": {},
     "output_type": "execute_result"
    },
    {
     "data": {
      "image/png": "[encoded data removed]",
      "text/plain": [
       "<Figure size 864x576 with 1 Axes>"
      ]
     },
     "metadata": {
      "needs_background": "light"
     },
     "output_type": "display_data"
    }
   ],
   "source": [
    "heights = ppc_df.loc[:, 'height[1]':'height[50]'].values\n",
    "q = [0., 0.05, 0.25, 0.5, 0.75, 0.95, 1.]\n",
    "quantiles = np.quantile(heights, q, axis=1)\n",
    "data_quantiles = np.quantile(d.height, q)\n",
    "\n",
    "plt.figure(figsize=(12, 8))\n",
    "plt.scatter(q * np.ones((1000, 1)), quantiles, alpha=0.05, label='simulated')\n",
    "plt.scatter(q, data_quantiles, label='data')"
   ]
  },
  {
   "cell_type": "code",
   "execution_count": null,
   "metadata": {},
   "outputs": [],
   "source": [
    "# it looks like it makes sense - data (orange) can be achieved by the model (blue), definitely within its range\n",
    "# however the model has a much broader range of values"
   ]
  }
 ],
 "metadata": {
  "kernelspec": {
   "display_name": "Python 3",
   "language": "python",
   "name": "python3"
  },
  "language_info": {
   "codemirror_mode": {
    "name": "ipython",
    "version": 3
   },
   "file_extension": ".py",
   "mimetype": "text/x-python",
   "name": "python",
   "nbconvert_exporter": "python",
   "pygments_lexer": "ipython3",
   "version": "3.9.11"
  },
  "orig_nbformat": 4
 },
 "nbformat": 4,
 "nbformat_minor": 2
}
